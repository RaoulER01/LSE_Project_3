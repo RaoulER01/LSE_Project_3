{
 "cells": [
  {
   "cell_type": "code",
   "execution_count": 2,
   "id": "0aeb9a2e",
   "metadata": {},
   "outputs": [],
   "source": [
    "# Import neccessary libraries and packages for linear regression:\n",
    "\n",
    "import pandas as pd\n",
    "\n",
    "from sklearn import linear_model\n",
    "\n",
    "from sklearn.metrics import mean_absolute_error as mae\n",
    "\n",
    "from sklearn.metrics import r2_score"
   ]
  },
  {
   "cell_type": "code",
   "execution_count": 3,
   "id": "31e57a98",
   "metadata": {},
   "outputs": [],
   "source": [
    "# Import lego.csv file:\n",
    "\n",
    "df = pd.read_csv('lego.csv')"
   ]
  },
  {
   "cell_type": "code",
   "execution_count": 4,
   "id": "3d226408",
   "metadata": {},
   "outputs": [
    {
     "name": "stdout",
     "output_type": "stream",
     "text": [
      "   ages  list_price  num_reviews  piece_count  play_star_rating  \\\n",
      "0    19       29.99            2          277               4.0   \n",
      "1    19       19.99            2          168               4.0   \n",
      "2    19       12.99           11           74               4.3   \n",
      "3     5       99.99           23         1032               3.6   \n",
      "4     5       79.99           14          744               3.2   \n",
      "\n",
      "   review_difficulty  country  \n",
      "0                  0       20  \n",
      "1                  2       20  \n",
      "2                  2       20  \n",
      "3                  0       20  \n",
      "4                  1       20  \n"
     ]
    }
   ],
   "source": [
    "# Check if data is loaded correctly and farmilirize with its contents:\n",
    "\n",
    "print(df.head(5))"
   ]
  },
  {
   "cell_type": "code",
   "execution_count": 5,
   "id": "dcc92300",
   "metadata": {},
   "outputs": [
    {
     "name": "stdout",
     "output_type": "stream",
     "text": [
      "Is there any missing value? Ans:False\n"
     ]
    }
   ],
   "source": [
    "# Are there any missing values?\n",
    "\n",
    "missingValues = df.isnull().values.any()\n",
    "print(f\"Is there any missing value? Ans:{missingValues}\")"
   ]
  },
  {
   "cell_type": "code",
   "execution_count": 6,
   "id": "28be6fa9",
   "metadata": {},
   "outputs": [
    {
     "name": "stdout",
     "output_type": "stream",
     "text": [
      "Range (Min-Max) value of age        : 0-30\n",
      "Range (Min-Max) value of list_price : 2.2724-1104.87\n",
      "Range (Min-Max) value of piece_count: 1-7541\n"
     ]
    }
   ],
   "source": [
    "# Understand data through looking at minimum and maximum values to see the distribution:\n",
    "\n",
    "print(f\"Range (Min-Max) value of age        : {df['ages'].min()}-{df['ages'].max()}\")\n",
    "print(f\"Range (Min-Max) value of list_price : {df['list_price'].min()}-{df['list_price'].max()}\")\n",
    "print(f\"Range (Min-Max) value of piece_count: {df['piece_count'].min()}-{df['piece_count'].max()}\")"
   ]
  },
  {
   "cell_type": "code",
   "execution_count": 7,
   "id": "834eda27",
   "metadata": {},
   "outputs": [
    {
     "data": {
      "text/plain": [
       "<AxesSubplot:ylabel='Frequency'>"
      ]
     },
     "execution_count": 7,
     "metadata": {},
     "output_type": "execute_result"
    },
    {
     "data": {
      "image/png": "[encoded data removed]",
      "text/plain": [
       "<Figure size 432x288 with 1 Axes>"
      ]
     },
     "metadata": {
      "needs_background": "light"
     },
     "output_type": "display_data"
    }
   ],
   "source": [
    "# Create some visualizations to get further insights into prices, ex. how does the price distribution look like?:\n",
    "\n",
    "df['list_price'].plot.hist(bins=100, alpha=0.5)"
   ]
  },
  {
   "cell_type": "code",
   "execution_count": 8,
   "id": "ae9fea75",
   "metadata": {},
   "outputs": [
    {
     "name": "stdout",
     "output_type": "stream",
     "text": [
      "Total number of instances in data: 12261\n",
      "Training data has instances (70%): 8583\n",
      "Testing data has instances  (30%): 3678\n"
     ]
    }
   ],
   "source": [
    "# Ensure maximum model performance through random data split: Train (70%) and Test (30%)\n",
    "\n",
    "train=df.sample(frac=0.7,random_state=200) \n",
    "test= df.drop(train.index)\n",
    "print(f\"Total number of instances in data: {df.shape[0]}\")\n",
    "print(f\"Training data has instances (70%): {train.shape[0]}\")\n",
    "print(f\"Testing data has instances  (30%): {test.shape[0]}\")"
   ]
  },
  {
   "cell_type": "code",
   "execution_count": 9,
   "id": "0b072969",
   "metadata": {},
   "outputs": [
    {
     "data": {
      "text/plain": [
       "LinearRegression()"
      ]
     },
     "execution_count": 9,
     "metadata": {},
     "output_type": "execute_result"
    }
   ],
   "source": [
    "# Start with preparing for Simple Linear regression:\n",
    "\n",
    "simpleLinearRegressionXColumns = ['piece_count'] \n",
    "slrTrainX = train[simpleLinearRegressionXColumns]\n",
    "slrTrainY = train[['list_price']]\n",
    "slrTestX = test[simpleLinearRegressionXColumns]\n",
    "slrTestY = test[['list_price']]\n",
    "\n",
    "slr = linear_model.LinearRegression()\n",
    "slr.fit(slrTrainX, slrTrainY)"
   ]
  },
  {
   "cell_type": "code",
   "execution_count": 10,
   "id": "96cf6f19",
   "metadata": {},
   "outputs": [
    {
     "data": {
      "text/plain": [
       "LinearRegression()"
      ]
     },
     "execution_count": 10,
     "metadata": {},
     "output_type": "execute_result"
    }
   ],
   "source": [
    "# And prepare for Multiple Linear regression:\n",
    "\n",
    "multipleLinearRegressionXColumns = ['piece_count','ages'] # You may increase columns-->['ages', 'num_reviews','piece_count','play_star_rating','review_difficulty','country']\n",
    "mlrTrainX = train[multipleLinearRegressionXColumns]\n",
    "mlrTrainY = train[['list_price']]\n",
    "mlrTestX = test[multipleLinearRegressionXColumns]\n",
    "mlrTestY = test[['list_price']]\n",
    "\n",
    "mlr = linear_model.LinearRegression()\n",
    "mlr.fit(mlrTrainX, mlrTrainY)"
   ]
  },
  {
   "cell_type": "code",
   "execution_count": 11,
   "id": "f0d26a41",
   "metadata": {},
   "outputs": [
    {
     "name": "stdout",
     "output_type": "stream",
     "text": [
      "(Simple Linear Regressor) Training data r square score     : 76.02194983616269%\n",
      "(Simple Linear Regressor) Testing  data r square score     : 74.60425921564016%\n",
      "(Simple Linear Regressor) Mean absolute error of Training  : 20.760450492184706\n",
      "(Simple Linear Regressor) Mean absolute error of Training  : 19.954030274053107\n",
      "------------------------------------------------------------------------------\n",
      "(Multiple Linear Regressor) Training data r square score    : 76.03007585891335%\n",
      "(Multiple Linear Regressor) Testing  data r square score    : 74.60425921564016%\n",
      "(Multiple Linear Regressor) Mean absolute error of Training : 20.735440796456224\n",
      "(Multiple Linear Regressor) Mean absolute error of Training : 19.954030274053107\n"
     ]
    }
   ],
   "source": [
    "# Continue with analysing and comparing metrics from both SLR and MLR:\n",
    "\n",
    "\n",
    "# First training and test data for SLR:\n",
    "\n",
    "slrTrainPred = slr.predict(slrTrainX) # Training data\n",
    "slrTestPred  = slr.predict(slrTestX)  # Test data\n",
    "\n",
    "r2_score_training = r2_score(slrTrainY,slrTrainPred)\n",
    "print(f\"(Simple Linear Regressor) Training data r square score     : {r2_score_training*100}%\")\n",
    "r2_score_test = r2_score(slrTestY,slrTestPred)\n",
    "print(f\"(Simple Linear Regressor) Testing  data r square score     : {r2_score_test*100}%\")\\\n",
    "\n",
    "\n",
    "trainMAE = mae(slrTrainY,slrTrainPred)\n",
    "print(f\"(Simple Linear Regressor) Mean absolute error of Training  : {str(trainMAE)}\")\n",
    "trainMAE = mae(slrTestY,slrTestPred)\n",
    "print(f\"(Simple Linear Regressor) Mean absolute error of Training  : {str(trainMAE)}\")\n",
    "\n",
    "\n",
    "print('------------------------------------------------------------------------------')\n",
    "\n",
    "\n",
    "# Second training and test data for MLR:\n",
    "\n",
    "mlrTrainPred = mlr.predict(mlrTrainX) # Training data\n",
    "mlrTestPred  = mlr.predict(mlrTestX)  # Test data\n",
    "\n",
    "r2_score_training = r2_score(mlrTrainY,mlrTrainPred)\n",
    "print(f\"(Multiple Linear Regressor) Training data r square score    : {r2_score_training*100}%\")\n",
    "r2_score_test = r2_score(slrTestY,slrTestPred)\n",
    "print(f\"(Multiple Linear Regressor) Testing  data r square score    : {r2_score_test*100}%\")\\\n",
    "\n",
    "\n",
    "trainMAE = mae(mlrTrainY,mlrTrainPred)\n",
    "print(f\"(Multiple Linear Regressor) Mean absolute error of Training : {str(trainMAE)}\")\n",
    "trainMAE = mae(slrTestY,slrTestPred)\n",
    "print(f\"(Multiple Linear Regressor) Mean absolute error of Training : {str(trainMAE)}\")"
   ]
  },
  {
   "cell_type": "code",
   "execution_count": 12,
   "id": "daddaab6",
   "metadata": {},
   "outputs": [
    {
     "name": "stdout",
     "output_type": "stream",
     "text": [
      "SLR model intercept:[17.07248072]\n",
      "SLR model slope:    [0.09713581]\n",
      "MLR model intercept:[15.32687745]\n",
      "MLR model slope:    [0.09722664 0.10233599]\n"
     ]
    }
   ],
   "source": [
    "# Additionally look at slope and intercept point of both SLR and MLR:\n",
    "\n",
    "slrintercept = slr.intercept_\n",
    "slrslope = slr.coef_[0]\n",
    "print(f\"SLR model intercept:{slrintercept}\")\n",
    "print(f\"SLR model slope:    {slrslope}\")\n",
    "\n",
    "mlrintercept = mlr.intercept_\n",
    "mlrslope = mlr.coef_[0]\n",
    "print(f\"MLR model intercept:{mlrintercept}\")\n",
    "print(f\"MLR model slope:    {mlrslope}\")"
   ]
  },
  {
   "cell_type": "code",
   "execution_count": 13,
   "id": "a4922429",
   "metadata": {},
   "outputs": [
    {
     "name": "stdout",
     "output_type": "stream",
     "text": [
      "Output of model on 8000 product  set: [794.15895321]\n",
      "Calculated price on 8000 product set: [794.15895321]\n",
      "------------------------------------------------------------------------------\n",
      "Output of model on 8000 product and 30 years age set: [796.21004624]\n",
      "Calculated price on 8000 product and 30 years age set: [796.21004624]\n"
     ]
    },
    {
     "name": "stderr",
     "output_type": "stream",
     "text": [
      "/opt/anaconda3/lib/python3.9/site-packages/sklearn/base.py:450: UserWarning: X does not have valid feature names, but LinearRegression was fitted with feature names\n",
      "  warnings.warn(\n",
      "/opt/anaconda3/lib/python3.9/site-packages/sklearn/base.py:450: UserWarning: X does not have valid feature names, but LinearRegression was fitted with feature names\n",
      "  warnings.warn(\n"
     ]
    }
   ],
   "source": [
    "# Now fidning the best price for a lego set with 8000 pieces through SLR:\n",
    "\n",
    "prediction = slr.predict([[8000]])\n",
    "print(f\"Output of model on 8000 product  set: {prediction[0]}\")\n",
    "\n",
    "# Check:\n",
    "\n",
    "calculated = slrintercept + slrslope*8000\n",
    "print(f\"Calculated price on 8000 product set: {calculated}\")\n",
    "\n",
    "print('------------------------------------------------------------------------------')\n",
    "\n",
    "\n",
    "# Now fidning the best price for a lego set with 8000 pieces for 30-year old customers through MLR:\n",
    "\n",
    "prediction = mlr.predict([[8000,30]])\n",
    "print(f\"Output of model on 8000 product and 30 years age set: {prediction[0]}\")\n",
    "\n",
    "# Check:\n",
    "\n",
    "calculated = mlrintercept + mlrslope[0]*8000+mlrslope[1]*30\n",
    "print(f\"Calculated price on 8000 product and 30 years age set: {calculated}\")"
   ]
  }
 ],
 "metadata": {
  "kernelspec": {
   "display_name": "Python 3 (ipykernel)",
   "language": "python",
   "name": "python3"
  },
  "language_info": {
   "codemirror_mode": {
    "name": "ipython",
    "version": 3
   },
   "file_extension": ".py",
   "mimetype": "text/x-python",
   "name": "python",
   "nbconvert_exporter": "python",
   "pygments_lexer": "ipython3",
   "version": "3.9.12"
  }
 },
 "nbformat": 4,
 "nbformat_minor": 5
}
